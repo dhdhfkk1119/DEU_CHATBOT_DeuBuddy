{
 "cells": [
  {
   "cell_type": "code",
   "execution_count": 1,
   "id": "51794fb3",
   "metadata": {},
   "outputs": [],
   "source": [
    "import os\n",
    "import json\n",
    "import pandas as pd"
   ]
  },
  {
   "cell_type": "code",
   "execution_count": 5,
   "id": "fe536e9d",
   "metadata": {},
   "outputs": [],
   "source": [
    "def counting(path):\n",
    "    cnt = 0\n",
    "    data_dir = path\n",
    "\n",
    "    for path in os.listdir(data_dir):\n",
    "        if os.path.isfile(os.path.join(data_dir, path)):\n",
    "            cnt += 1\n",
    "\n",
    "    print(f'데이터 개수 = {cnt}')\n",
    "    return cnt"
   ]
  },
  {
   "cell_type": "code",
   "execution_count": 6,
   "id": "7881cf20",
   "metadata": {},
   "outputs": [],
   "source": [
    "target_path = \"../원본데이터/용도별 목적대화 데이터/\""
   ]
  },
  {
   "cell_type": "code",
   "execution_count": 7,
   "id": "82418858",
   "metadata": {},
   "outputs": [],
   "source": [
    "target_path_list = os.listdir(target_path)"
   ]
  },
  {
   "cell_type": "code",
   "execution_count": 8,
   "id": "d7a1806d",
   "metadata": {},
   "outputs": [
    {
     "data": {
      "text/plain": [
       "['비용환불문의',\n",
       " '이벤트',\n",
       " '온오프라인안내',\n",
       " '레저',\n",
       " '배송',\n",
       " '숙박',\n",
       " '등록문의',\n",
       " '일정문의',\n",
       " '주문결제',\n",
       " '제품사용문의',\n",
       " '교통',\n",
       " '관광',\n",
       " 'AS문의',\n",
       " '식당',\n",
       " '부서안내',\n",
       " '프로그램문의',\n",
       " '민원신고',\n",
       " '환불반품교환',\n",
       " '서류문의',\n",
       " '절차문의']"
      ]
     },
     "execution_count": 8,
     "metadata": {},
     "output_type": "execute_result"
    }
   ],
   "source": [
    "target_path_list"
   ]
  },
  {
   "cell_type": "code",
   "execution_count": 9,
   "id": "21aca43c",
   "metadata": {},
   "outputs": [
    {
     "name": "stdout",
     "output_type": "stream",
     "text": [
      "데이터 개수 = 970\n",
      "데이터 개수 = 990\n",
      "데이터 개수 = 2136\n",
      "데이터 개수 = 2313\n",
      "데이터 개수 = 1945\n",
      "데이터 개수 = 1410\n",
      "데이터 개수 = 1806\n",
      "데이터 개수 = 910\n",
      "데이터 개수 = 1952\n",
      "데이터 개수 = 2473\n",
      "데이터 개수 = 899\n",
      "데이터 개수 = 2281\n",
      "데이터 개수 = 2426\n",
      "데이터 개수 = 1446\n",
      "데이터 개수 = 2093\n",
      "데이터 개수 = 2707\n",
      "데이터 개수 = 2833\n",
      "데이터 개수 = 1910\n",
      "데이터 개수 = 2196\n",
      "데이터 개수 = 2787\n",
      "총 데이터 개수 = 38483\n"
     ]
    }
   ],
   "source": [
    "total_data = 0\n",
    "for i in range(len(target_path_list)):\n",
    "    cnt = counting(target_path+target_path_list[i])\n",
    "    total_data += cnt\n",
    "print(f'총 데이터 개수 = {total_data}')"
   ]
  },
  {
   "cell_type": "code",
   "execution_count": 10,
   "id": "21fb066b",
   "metadata": {},
   "outputs": [
    {
     "name": "stdout",
     "output_type": "stream",
     "text": [
      "error! ../원본데이터/용도별 목적대화 데이터/배송/shopping4_0842.json\n"
     ]
    }
   ],
   "source": [
    "purpose = []\n",
    "for i in range(len(target_path_list)):\n",
    "    files = os.listdir(target_path+target_path_list[i])\n",
    "    for k in range(len(files)):\n",
    "        final_path = str(target_path)+str(target_path_list[i])+\"/\"+str(files[k])\n",
    "        try:\n",
    "            target_file = open(f\"{final_path}\", encoding=\"UTF-8\")\n",
    "            target_file = json.loads(target_file.read())\n",
    "            for j in range(len(target_file['info'][0]['annotations']['lines'])):\n",
    "                purpose.append(target_file['info'][0]['annotations']['lines'][j]['norm_text'][2:])\n",
    "        except:\n",
    "            print(f\"error! {final_path}\")"
   ]
  },
  {
   "cell_type": "code",
   "execution_count": 11,
   "id": "d4238c2a",
   "metadata": {},
   "outputs": [
    {
     "data": {
      "text/plain": [
       "480494"
      ]
     },
     "execution_count": 11,
     "metadata": {},
     "output_type": "execute_result"
    }
   ],
   "source": [
    "len(purpose)"
   ]
  },
  {
   "cell_type": "code",
   "execution_count": 12,
   "id": "79138574",
   "metadata": {},
   "outputs": [],
   "source": [
    "purpose_df = pd.DataFrame({'text':purpose})"
   ]
  },
  {
   "cell_type": "code",
   "execution_count": 13,
   "id": "914eb93c",
   "metadata": {},
   "outputs": [
    {
     "data": {
      "text/html": [
       "<div>\n",
       "<style scoped>\n",
       "    .dataframe tbody tr th:only-of-type {\n",
       "        vertical-align: middle;\n",
       "    }\n",
       "\n",
       "    .dataframe tbody tr th {\n",
       "        vertical-align: top;\n",
       "    }\n",
       "\n",
       "    .dataframe thead th {\n",
       "        text-align: right;\n",
       "    }\n",
       "</style>\n",
       "<table border=\"1\" class=\"dataframe\">\n",
       "  <thead>\n",
       "    <tr style=\"text-align: right;\">\n",
       "      <th></th>\n",
       "      <th>text</th>\n",
       "    </tr>\n",
       "  </thead>\n",
       "  <tbody>\n",
       "    <tr>\n",
       "      <th>0</th>\n",
       "      <td>행복 가득한 #@소속# 상담원 #@이름#입니다 무엇을 도와드릴까요</td>\n",
       "    </tr>\n",
       "    <tr>\n",
       "      <th>1</th>\n",
       "      <td>결제를 못해서요 어떻게 하나요</td>\n",
       "    </tr>\n",
       "    <tr>\n",
       "      <th>2</th>\n",
       "      <td>등록금 결제 말씀하시는거 맞나요</td>\n",
       "    </tr>\n",
       "    <tr>\n",
       "      <th>3</th>\n",
       "      <td>네 기간제 신청하고 수강신청도 했는데 결제를 못했어요</td>\n",
       "    </tr>\n",
       "    <tr>\n",
       "      <th>4</th>\n",
       "      <td>네 일단 성함과 연락처 말씀해주시겠어요</td>\n",
       "    </tr>\n",
       "  </tbody>\n",
       "</table>\n",
       "</div>"
      ],
      "text/plain": [
       "                                   text\n",
       "0  행복 가득한 #@소속# 상담원 #@이름#입니다 무엇을 도와드릴까요\n",
       "1                      결제를 못해서요 어떻게 하나요\n",
       "2                     등록금 결제 말씀하시는거 맞나요\n",
       "3         네 기간제 신청하고 수강신청도 했는데 결제를 못했어요\n",
       "4                 네 일단 성함과 연락처 말씀해주시겠어요"
      ]
     },
     "execution_count": 13,
     "metadata": {},
     "output_type": "execute_result"
    }
   ],
   "source": [
    "purpose_df.head()"
   ]
  },
  {
   "cell_type": "code",
   "execution_count": 14,
   "id": "378e8765",
   "metadata": {},
   "outputs": [
    {
     "data": {
      "text/html": [
       "<div>\n",
       "<style scoped>\n",
       "    .dataframe tbody tr th:only-of-type {\n",
       "        vertical-align: middle;\n",
       "    }\n",
       "\n",
       "    .dataframe tbody tr th {\n",
       "        vertical-align: top;\n",
       "    }\n",
       "\n",
       "    .dataframe thead th {\n",
       "        text-align: right;\n",
       "    }\n",
       "</style>\n",
       "<table border=\"1\" class=\"dataframe\">\n",
       "  <thead>\n",
       "    <tr style=\"text-align: right;\">\n",
       "      <th></th>\n",
       "      <th>text</th>\n",
       "    </tr>\n",
       "  </thead>\n",
       "  <tbody>\n",
       "    <tr>\n",
       "      <th>480489</th>\n",
       "      <td>감사합니다 처방전 같은 경우는 어떻게 하나요</td>\n",
       "    </tr>\n",
       "    <tr>\n",
       "      <th>480490</th>\n",
       "      <td>환자가 지정하는 약국으로 처방전을 전송할 수 있도록 합니다</td>\n",
       "    </tr>\n",
       "    <tr>\n",
       "      <th>480491</th>\n",
       "      <td>이를 받은 약사는 처방전에 따라 의약품을 전달할 수 있습니다</td>\n",
       "    </tr>\n",
       "    <tr>\n",
       "      <th>480492</th>\n",
       "      <td>네 그렇군요 도움이 많이 됐습니다 감사합니다</td>\n",
       "    </tr>\n",
       "    <tr>\n",
       "      <th>480493</th>\n",
       "      <td>감사합니다 #@소속# 상담원 #@이름#이었습니다</td>\n",
       "    </tr>\n",
       "  </tbody>\n",
       "</table>\n",
       "</div>"
      ],
      "text/plain": [
       "                                     text\n",
       "480489           감사합니다 처방전 같은 경우는 어떻게 하나요\n",
       "480490   환자가 지정하는 약국으로 처방전을 전송할 수 있도록 합니다\n",
       "480491  이를 받은 약사는 처방전에 따라 의약품을 전달할 수 있습니다\n",
       "480492           네 그렇군요 도움이 많이 됐습니다 감사합니다\n",
       "480493         감사합니다 #@소속# 상담원 #@이름#이었습니다"
      ]
     },
     "execution_count": 14,
     "metadata": {},
     "output_type": "execute_result"
    }
   ],
   "source": [
    "purpose_df.tail()"
   ]
  },
  {
   "cell_type": "code",
   "execution_count": 15,
   "id": "7ea78d06",
   "metadata": {},
   "outputs": [],
   "source": [
    "purpose_df.to_csv(\"../변형데이터/용도별목적대화데이터.csv\", index=False)"
   ]
  },
  {
   "cell_type": "code",
   "execution_count": 16,
   "id": "1d911463",
   "metadata": {},
   "outputs": [],
   "source": [
    "target_path = \"../원본데이터/주제별 텍스트 일상 대화 데이터/\""
   ]
  },
  {
   "cell_type": "code",
   "execution_count": 17,
   "id": "59d0e39b",
   "metadata": {},
   "outputs": [],
   "source": [
    "target_path_list = os.listdir(target_path)"
   ]
  },
  {
   "cell_type": "code",
   "execution_count": 20,
   "id": "b9166b54",
   "metadata": {},
   "outputs": [
    {
     "data": {
      "text/plain": [
       "['BAND', 'FACEBOOK', 'INSTAGRAM', 'NATEON', 'KAKAO']"
      ]
     },
     "execution_count": 20,
     "metadata": {},
     "output_type": "execute_result"
    }
   ],
   "source": [
    "target_path_list"
   ]
  },
  {
   "cell_type": "code",
   "execution_count": 21,
   "id": "397fffa2",
   "metadata": {},
   "outputs": [
    {
     "name": "stdout",
     "output_type": "stream",
     "text": [
      "데이터 개수 = 1631\n",
      "데이터 개수 = 8002\n",
      "데이터 개수 = 4800\n",
      "데이터 개수 = 1606\n",
      "데이터 개수 = 54000\n",
      "총 데이터 개수 = 70039\n"
     ]
    }
   ],
   "source": [
    "total_data = 0\n",
    "for i in range(len(target_path_list)):\n",
    "    cnt = counting(target_path+target_path_list[i])\n",
    "    total_data += cnt\n",
    "print(f'총 데이터 개수 = {total_data}')"
   ]
  },
  {
   "cell_type": "code",
   "execution_count": 23,
   "id": "76c4a2da",
   "metadata": {},
   "outputs": [],
   "source": [
    "ex = open(f\"../원본데이터/주제별 텍스트 일상 대화 데이터/KAKAO/KAKAO_898_15.json\", encoding=\"UTF-8\")\n",
    "ex = json.loads(ex.read())"
   ]
  },
  {
   "cell_type": "code",
   "execution_count": 24,
   "id": "bcba57f4",
   "metadata": {},
   "outputs": [
    {
     "data": {
      "text/plain": [
       "'장난 아니죠 ? ㅠ'"
      ]
     },
     "execution_count": 24,
     "metadata": {},
     "output_type": "execute_result"
    }
   ],
   "source": [
    "ex['info'][0]['annotations']['lines'][7]['norm_text']"
   ]
  },
  {
   "cell_type": "code",
   "execution_count": 25,
   "id": "eba6907a",
   "metadata": {},
   "outputs": [
    {
     "data": {
      "text/plain": [
       "'이게\\xa0다\\xa0폭염과\\xa0가뭄\\xa0등\\xa0이상기후\\xa0때문인데...'"
      ]
     },
     "execution_count": 25,
     "metadata": {},
     "output_type": "execute_result"
    }
   ],
   "source": [
    "ex['info'][0]['annotations']['lines'][11]['norm_text']"
   ]
  },
  {
   "cell_type": "code",
   "execution_count": 29,
   "id": "6bc81b62",
   "metadata": {},
   "outputs": [
    {
     "data": {
      "text/plain": [
       "'이번에 캘리포니아에 산불 난 거 보셨어요?'"
      ]
     },
     "execution_count": 29,
     "metadata": {},
     "output_type": "execute_result"
    }
   ],
   "source": [
    "ex['info'][0]['annotations']['lines'][0]['norm_text']"
   ]
  },
  {
   "cell_type": "code",
   "execution_count": 30,
   "id": "3fb71a69",
   "metadata": {},
   "outputs": [
    {
     "data": {
      "text/plain": [
       "26"
      ]
     },
     "execution_count": 30,
     "metadata": {},
     "output_type": "execute_result"
    }
   ],
   "source": [
    "len(ex['info'][0]['annotations']['lines'])"
   ]
  },
  {
   "cell_type": "code",
   "execution_count": 31,
   "id": "bfbcbc17",
   "metadata": {},
   "outputs": [
    {
     "data": {
      "text/plain": [
       "['BAND', 'FACEBOOK', 'INSTAGRAM', 'NATEON', 'KAKAO']"
      ]
     },
     "execution_count": 31,
     "metadata": {},
     "output_type": "execute_result"
    }
   ],
   "source": [
    "target_path_list"
   ]
  },
  {
   "cell_type": "code",
   "execution_count": 33,
   "id": "91b922e6",
   "metadata": {},
   "outputs": [],
   "source": [
    "files = files = os.listdir(target_path+target_path_list[0])"
   ]
  },
  {
   "cell_type": "code",
   "execution_count": 34,
   "id": "306aeae8",
   "metadata": {},
   "outputs": [
    {
     "data": {
      "text/plain": [
       "'../원본데이터/주제별 텍스트 일상 대화 데이터/BANDBAND_32_10.json'"
      ]
     },
     "execution_count": 34,
     "metadata": {},
     "output_type": "execute_result"
    }
   ],
   "source": [
    "target_path+target_path_list[0]+files[0]"
   ]
  },
  {
   "cell_type": "code",
   "execution_count": 35,
   "id": "0aa8e241",
   "metadata": {},
   "outputs": [
    {
     "data": {
      "text/plain": [
       "['BAND', 'FACEBOOK', 'INSTAGRAM', 'NATEON', 'KAKAO']"
      ]
     },
     "execution_count": 35,
     "metadata": {},
     "output_type": "execute_result"
    }
   ],
   "source": [
    "target_path_list"
   ]
  },
  {
   "cell_type": "code",
   "execution_count": 36,
   "id": "314bd6fa",
   "metadata": {},
   "outputs": [
    {
     "name": "stdout",
     "output_type": "stream",
     "text": [
      "error! ../원본데이터/주제별 텍스트 일상 대화 데이터/KAKAO/KAKAO_1648_13.json\n"
     ]
    }
   ],
   "source": [
    "daily_conversations = []\n",
    "for i in range(len(target_path_list)):\n",
    "    files = os.listdir(target_path+target_path_list[i])\n",
    "    for k in range(len(files)):\n",
    "        final_path = str(target_path)+str(target_path_list[i])+\"/\"+str(files[k])\n",
    "        try:\n",
    "            target_file = open(f\"{final_path}\", encoding=\"UTF-8\")\n",
    "            target_file = json.loads(target_file.read())\n",
    "            for j in range(len(target_file['info'][0]['annotations']['lines'])):\n",
    "                daily_conversations.append(target_file['info'][0]['annotations']['lines'][j]['norm_text'])\n",
    "        except:\n",
    "            print(f\"error! {final_path}\")"
   ]
  },
  {
   "cell_type": "code",
   "execution_count": 37,
   "id": "22cb32f2",
   "metadata": {},
   "outputs": [
    {
     "data": {
      "text/plain": [
       "1230012"
      ]
     },
     "execution_count": 37,
     "metadata": {},
     "output_type": "execute_result"
    }
   ],
   "source": [
    "len(daily_conversations)"
   ]
  },
  {
   "cell_type": "code",
   "execution_count": 38,
   "id": "a516c384",
   "metadata": {},
   "outputs": [],
   "source": [
    "daily_conversations_df = pd.DataFrame({'text':daily_conversations})"
   ]
  },
  {
   "cell_type": "code",
   "execution_count": 39,
   "id": "c91b0f22",
   "metadata": {},
   "outputs": [
    {
     "data": {
      "text/html": [
       "<div>\n",
       "<style scoped>\n",
       "    .dataframe tbody tr th:only-of-type {\n",
       "        vertical-align: middle;\n",
       "    }\n",
       "\n",
       "    .dataframe tbody tr th {\n",
       "        vertical-align: top;\n",
       "    }\n",
       "\n",
       "    .dataframe thead th {\n",
       "        text-align: right;\n",
       "    }\n",
       "</style>\n",
       "<table border=\"1\" class=\"dataframe\">\n",
       "  <thead>\n",
       "    <tr style=\"text-align: right;\">\n",
       "      <th></th>\n",
       "      <th>text</th>\n",
       "    </tr>\n",
       "  </thead>\n",
       "  <tbody>\n",
       "    <tr>\n",
       "      <th>0</th>\n",
       "      <td>우리 아빠가 옥상에다 골프장을 만들었어.</td>\n",
       "    </tr>\n",
       "    <tr>\n",
       "      <th>1</th>\n",
       "      <td>우와 어떻게 만드신 거야?</td>\n",
       "    </tr>\n",
       "    <tr>\n",
       "      <th>2</th>\n",
       "      <td>그냥 인터넷으로 과녁 사서 붙혔더라.</td>\n",
       "    </tr>\n",
       "    <tr>\n",
       "      <th>3</th>\n",
       "      <td>골프채 같은 거 되게 비싸지 않아?</td>\n",
       "    </tr>\n",
       "    <tr>\n",
       "      <th>4</th>\n",
       "      <td>누가 골프 가방 통째로 줘서 시작했어.</td>\n",
       "    </tr>\n",
       "  </tbody>\n",
       "</table>\n",
       "</div>"
      ],
      "text/plain": [
       "                     text\n",
       "0  우리 아빠가 옥상에다 골프장을 만들었어.\n",
       "1          우와 어떻게 만드신 거야?\n",
       "2    그냥 인터넷으로 과녁 사서 붙혔더라.\n",
       "3     골프채 같은 거 되게 비싸지 않아?\n",
       "4   누가 골프 가방 통째로 줘서 시작했어."
      ]
     },
     "execution_count": 39,
     "metadata": {},
     "output_type": "execute_result"
    }
   ],
   "source": [
    "daily_conversations_df.head()\n"
   ]
  },
  {
   "cell_type": "code",
   "execution_count": 40,
   "id": "26778fb1",
   "metadata": {},
   "outputs": [
    {
     "data": {
      "text/html": [
       "<div>\n",
       "<style scoped>\n",
       "    .dataframe tbody tr th:only-of-type {\n",
       "        vertical-align: middle;\n",
       "    }\n",
       "\n",
       "    .dataframe tbody tr th {\n",
       "        vertical-align: top;\n",
       "    }\n",
       "\n",
       "    .dataframe thead th {\n",
       "        text-align: right;\n",
       "    }\n",
       "</style>\n",
       "<table border=\"1\" class=\"dataframe\">\n",
       "  <thead>\n",
       "    <tr style=\"text-align: right;\">\n",
       "      <th></th>\n",
       "      <th>text</th>\n",
       "    </tr>\n",
       "  </thead>\n",
       "  <tbody>\n",
       "    <tr>\n",
       "      <th>1230007</th>\n",
       "      <td>아닝 키키 다른 운동까진 아직 무리고 키키 홈트라도 자주 해주려고</td>\n",
       "    </tr>\n",
       "    <tr>\n",
       "      <th>1230008</th>\n",
       "      <td>아 키키 뭐 그래도 좋네 곧 건강해지겠어</td>\n",
       "    </tr>\n",
       "    <tr>\n",
       "      <th>1230009</th>\n",
       "      <td>집에서 자주 하라고 폼롤러 사용법 알려주더라고</td>\n",
       "    </tr>\n",
       "    <tr>\n",
       "      <th>1230010</th>\n",
       "      <td>오 좋네 키키 폼롤러도 이번에 하나 장만하셨습니까?</td>\n",
       "    </tr>\n",
       "    <tr>\n",
       "      <th>1230011</th>\n",
       "      <td>키키 폼롤러 진작 사놨는데 사용법을 몰라서 관상용으로 모셔뒀었지 키키</td>\n",
       "    </tr>\n",
       "  </tbody>\n",
       "</table>\n",
       "</div>"
      ],
      "text/plain": [
       "                                           text\n",
       "1230007    아닝 키키 다른 운동까진 아직 무리고 키키 홈트라도 자주 해주려고\n",
       "1230008                  아 키키 뭐 그래도 좋네 곧 건강해지겠어\n",
       "1230009               집에서 자주 하라고 폼롤러 사용법 알려주더라고\n",
       "1230010            오 좋네 키키 폼롤러도 이번에 하나 장만하셨습니까?\n",
       "1230011  키키 폼롤러 진작 사놨는데 사용법을 몰라서 관상용으로 모셔뒀었지 키키"
      ]
     },
     "execution_count": 40,
     "metadata": {},
     "output_type": "execute_result"
    }
   ],
   "source": [
    "daily_conversations_df.tail()"
   ]
  },
  {
   "cell_type": "code",
   "execution_count": 41,
   "id": "09c55b57",
   "metadata": {},
   "outputs": [],
   "source": [
    "daily_conversations_df.to_csv(\"../변형데이터/주제별텍스트일상대화데이터.csv\", index=False)"
   ]
  },
  {
   "cell_type": "code",
   "execution_count": 43,
   "id": "8ddac9fb",
   "metadata": {},
   "outputs": [],
   "source": [
    "common_sense = open(f\"../원본데이터/감성대화/감성대화말뭉치.json\", encoding=\"UTF-8\")\n",
    "common_sense = json.loads(common_sense.read())"
   ]
  },
  {
   "cell_type": "code",
   "execution_count": 89,
   "id": "1df1bfcd",
   "metadata": {},
   "outputs": [
    {
     "data": {
      "text/plain": [
       "{'HS01': '이번 달에 또 급여가 깎였어! 물가는 오르는데 월급만 자꾸 깎이니까 너무 화가 나.',\n",
       " 'SS01': '급여가 줄어 속상하시겠어요. 월급이 줄어든 것을 어떻게 보완하실 건가요?',\n",
       " 'HS02': '최대한 지출을 억제해야겠어. 월급이 줄어들었으니 고정지출을 줄일 수밖에 없을 것 같아.',\n",
       " 'SS02': '월급이 줄어든 만큼 소비를 줄일 계획이군요.',\n",
       " 'HS03': '',\n",
       " 'SS03': ''}"
      ]
     },
     "execution_count": 89,
     "metadata": {},
     "output_type": "execute_result"
    }
   ],
   "source": [
    "common_sense[1]['talk']['content']"
   ]
  },
  {
   "cell_type": "code",
   "execution_count": 104,
   "id": "01331023",
   "metadata": {},
   "outputs": [
    {
     "name": "stdout",
     "output_type": "stream",
     "text": [
      "0 일은 왜 해도 해도 끝이 없을까? 화가 난다.\n",
      "0 많이 힘드시겠어요. 주위에 의논할 상대가 있나요?\n",
      "0 그냥 내가 해결하는 게 나아. 남들한테 부담 주고 싶지도 않고.\n",
      "0 혼자 해결하기로 했군요. 혼자서 해결하기 힘들면 주위에 의논할 사람을 찾아보세요. \n",
      "1 이번 달에 또 급여가 깎였어! 물가는 오르는데 월급만 자꾸 깎이니까 너무 화가 나.\n",
      "1 급여가 줄어 속상하시겠어요. 월급이 줄어든 것을 어떻게 보완하실 건가요?\n",
      "1 최대한 지출을 억제해야겠어. 월급이 줄어들었으니 고정지출을 줄일 수밖에 없을 것 같아.\n",
      "1 월급이 줄어든 만큼 소비를 줄일 계획이군요.\n"
     ]
    }
   ],
   "source": [
    "for i in range(2):\n",
    "    print(i, common_sense[i]['talk']['content']['HS01'])\n",
    "    print(i, common_sense[i]['talk']['content']['SS01'])\n",
    "    print(i, common_sense[i]['talk']['content']['HS02'])\n",
    "    print(i, common_sense[i]['talk']['content']['SS02'])"
   ]
  },
  {
   "cell_type": "code",
   "execution_count": 71,
   "id": "018b27af",
   "metadata": {},
   "outputs": [
    {
     "data": {
      "text/plain": [
       "51628"
      ]
     },
     "execution_count": 71,
     "metadata": {},
     "output_type": "execute_result"
    }
   ],
   "source": [
    "len(common_sense)"
   ]
  },
  {
   "cell_type": "code",
   "execution_count": null,
   "id": "41fbc231",
   "metadata": {},
   "outputs": [],
   "source": []
  }
 ],
 "metadata": {
  "kernelspec": {
   "display_name": "Python 3 (ipykernel)",
   "language": "python",
   "name": "python3"
  },
  "language_info": {
   "codemirror_mode": {
    "name": "ipython",
    "version": 3
   },
   "file_extension": ".py",
   "mimetype": "text/x-python",
   "name": "python",
   "nbconvert_exporter": "python",
   "pygments_lexer": "ipython3",
   "version": "3.11.5"
  }
 },
 "nbformat": 4,
 "nbformat_minor": 5
}
